{
 "cells": [
  {
   "cell_type": "markdown",
   "metadata": {
    "collapsed": true
   },
   "source": [
    "### Introduction\n",
    "The purpose of this notebook is to test a hypothesis that I formulated while reading [Non-Ergodicity and its Implications for Businesses and Investors](https://fundooprofessor.wordpress.com/2019/10/13/non-ergodicity/) by Sanjay Bakshi.\n",
    "\n",
    "The author does an excellent job of introducing the concept of Non-Ergodicity and explaining its implications for investment management (particularly position sizing). In the comments on Slide 64, he begins a discussion on the need for broad diversification (e.g., no more than ~1% of portfolio at risk in any investment). \n",
    "\n",
    "My hypothesis was that, since he had described a winning game, being able to participate in several similar games across a limited portfolio (size <= 15) would result in long-term wealth creation (as the author demonstrates, it doesn't work without diversification).\n",
    "\n",
    "The notebook below has the following structure:\n",
    "1. Defines the logic to recreate the game and simulate it for multiple iterations\n",
    "2. Follows the author's story arc for a single-bet-per-round game (portfolio_size = 1)\n",
    "3. Tests my hypothesis by creating a portfolio of similar games (portfolio_size > 1)\n",
    "4. Presents the results of limited diversification"
   ]
  },
  {
   "cell_type": "markdown",
   "metadata": {},
   "source": [
    "### Import libraries"
   ]
  },
  {
   "cell_type": "code",
   "execution_count": 1,
   "metadata": {},
   "outputs": [],
   "source": [
    "import numpy as np\n",
    "import pandas as pd\n",
    "\n",
    "import matplotlib.pyplot as plt"
   ]
  },
  {
   "cell_type": "markdown",
   "metadata": {},
   "source": [
    "### Define function that recreates game and runs the simulation"
   ]
  },
  {
   "cell_type": "code",
   "execution_count": 2,
   "metadata": {},
   "outputs": [],
   "source": [
    "def run_simulation(portfolio_size, num_coin_tosses, num_runs):\n",
    "    \"\"\"\n",
    "    Runs a number of iterations of the coin tossing game defined in the PowerPoint presentation titled \n",
    "    \"Non-Ergodicity and its Implications for Businesses and Investors\" by Sanjay Bakshi \n",
    "    (https://fundooprofessor.wordpress.com/2019/10/13/non-ergodicity/). The game is enhanced to\n",
    "    support multiple investments (portfolio_size) in the same type of game in each coin-tossing round.\n",
    "    \n",
    "    :param portfolio_size: Defines the number of 'investments' made in each round; allocation for each\n",
    "    investment is 1 / portfolio_size.\n",
    "    \n",
    "    :param num_coin_tosses: Defines the number of coin tosses used in each iteration.\n",
    "    \n",
    "    :param num_runs: Defines the number of iterations used in the simulation.\n",
    "    \n",
    "    :returns: Tuple comprised of a 3-D numpy array containing the results for all coin tosses for all portfolios\n",
    "    for all runs, and a pandas dataframe containing the final portfolio values for each run.\n",
    "    \n",
    "    :raises: :class:`AssertionError`: If any of the parameters are less than or equal to zero.\n",
    "    \"\"\"\n",
    "    \n",
    "    # validate inputs\n",
    "    assert(portfolio_size >= 1)\n",
    "    assert(num_coin_tosses >= 1)\n",
    "    assert(num_runs >= 1)\n",
    "    \n",
    "    # set paramaters of \"game\"\n",
    "    win_pct = 0.50\n",
    "    loss_pct = 0.40\n",
    "\n",
    "    initial_capital = 100\n",
    "    \n",
    "    # generate random numbers to simulate coin tosses\n",
    "    # randint setting of 2 will generate integers 0 or 1, use 1 for heads\n",
    "    coin = np.random.randint(2, size=(num_runs, num_coin_tosses, portfolio_size))\n",
    "    \n",
    "    # calculate change in value for tails, heads\n",
    "    # when coin toss is simulated, all values of variable 'coin' will be either 0 for tails or 1 for heads\n",
    "    # use value of each coin toss as index into change_in_value array below\n",
    "    change_in_value = [1 - loss_pct, 1 + win_pct]\n",
    "\n",
    "    # calculate percentage of total capital to allocate to each portfolio\n",
    "    allocation = 1 / portfolio_size\n",
    "    \n",
    "    # create arrays to store individual outcomes and final total portfolio value after each run\n",
    "    results = np.zeros(shape=(num_runs, num_coin_tosses, portfolio_size))\n",
    "    portfolio_values = np.zeros(num_runs)\n",
    "    \n",
    "    # run simulation\n",
    "    for run in range(num_runs):\n",
    "        \n",
    "        # cur_capital tracks changes in portfolio value after each round of coin tosses\n",
    "        # reset it at the beginning of each run\n",
    "        cur_capital = initial_capital\n",
    "    \n",
    "        for toss in range(num_coin_tosses):\n",
    "            # after each round of tosses, change bet size based on current amount of capital available\n",
    "            bet_size = cur_capital * allocation\n",
    "            \n",
    "            # toss one coin for each portfolio and calculate resulting change in total portfolio value\n",
    "            for portfolio in range(portfolio_size):\n",
    "                results[run, toss, portfolio] = change_in_value[coin[run, toss, portfolio]] * bet_size\n",
    "                \n",
    "                # current capital is sum of resulting portfolio values\n",
    "                cur_capital = results[run, toss].sum()\n",
    "     \n",
    "        # save last portfolio value calculated for each run\n",
    "        portfolio_values[run] = cur_capital\n",
    "        \n",
    "    # return individual results and final portfolio values (as dataframe, for easier analysis) for each run\n",
    "    return results, pd.DataFrame(portfolio_values, columns=['Final Portfolio Value'])"
   ]
  },
  {
   "cell_type": "markdown",
   "metadata": {},
   "source": [
    "### Run simulations with settings that follow author's story arc\n",
    "In the initial slides, the author walks through the effects of a limited number of tosses from a few people. He shows that, while the average return is good (as you'd expect from a winning game), the results are skewed in ways that people don't expect (because they are focused on what the author terms the 'ensemble average').\n",
    "\n",
    "The simulation shows similar results for 100 people making 50 coin tosses each."
   ]
  },
  {
   "cell_type": "code",
   "execution_count": 3,
   "metadata": {},
   "outputs": [],
   "source": [
    "results, port_values = run_simulation(portfolio_size = 1, num_coin_tosses = 50, num_runs = 100)"
   ]
  },
  {
   "cell_type": "code",
   "execution_count": 4,
   "metadata": {},
   "outputs": [
    {
     "data": {
      "image/png": "[encoded data removed]",
      "text/plain": [
       "<Figure size 432x288 with 1 Axes>"
      ]
     },
     "metadata": {
      "needs_background": "light"
     },
     "output_type": "display_data"
    }
   ],
   "source": [
    "port_values.hist(bins=50);"
   ]
  },
  {
   "cell_type": "code",
   "execution_count": 5,
   "metadata": {},
   "outputs": [
    {
     "data": {
      "text/html": [
       "<div>\n",
       "<style scoped>\n",
       "    .dataframe tbody tr th:only-of-type {\n",
       "        vertical-align: middle;\n",
       "    }\n",
       "\n",
       "    .dataframe tbody tr th {\n",
       "        vertical-align: top;\n",
       "    }\n",
       "\n",
       "    .dataframe thead th {\n",
       "        text-align: right;\n",
       "    }\n",
       "</style>\n",
       "<table border=\"1\" class=\"dataframe\">\n",
       "  <thead>\n",
       "    <tr style=\"text-align: right;\">\n",
       "      <th></th>\n",
       "      <th>Final Portfolio Value</th>\n",
       "    </tr>\n",
       "  </thead>\n",
       "  <tbody>\n",
       "    <tr>\n",
       "      <th>count</th>\n",
       "      <td>100.000000</td>\n",
       "    </tr>\n",
       "    <tr>\n",
       "      <th>mean</th>\n",
       "      <td>474.659232</td>\n",
       "    </tr>\n",
       "    <tr>\n",
       "      <th>std</th>\n",
       "      <td>2799.658660</td>\n",
       "    </tr>\n",
       "    <tr>\n",
       "      <th>min</th>\n",
       "      <td>0.004705</td>\n",
       "    </tr>\n",
       "    <tr>\n",
       "      <th>25%</th>\n",
       "      <td>1.148637</td>\n",
       "    </tr>\n",
       "    <tr>\n",
       "      <th>50%</th>\n",
       "      <td>7.178980</td>\n",
       "    </tr>\n",
       "    <tr>\n",
       "      <th>75%</th>\n",
       "      <td>44.868624</td>\n",
       "    </tr>\n",
       "    <tr>\n",
       "      <th>max</th>\n",
       "      <td>27385.634906</td>\n",
       "    </tr>\n",
       "  </tbody>\n",
       "</table>\n",
       "</div>"
      ],
      "text/plain": [
       "       Final Portfolio Value\n",
       "count             100.000000\n",
       "mean              474.659232\n",
       "std              2799.658660\n",
       "min                 0.004705\n",
       "25%                 1.148637\n",
       "50%                 7.178980\n",
       "75%                44.868624\n",
       "max             27385.634906"
      ]
     },
     "execution_count": 5,
     "metadata": {},
     "output_type": "execute_result"
    }
   ],
   "source": [
    "port_values.describe()"
   ]
  },
  {
   "cell_type": "markdown",
   "metadata": {},
   "source": [
    "As the histogram and descriptive statistics demonstrate, the average value is 474.66, a return of over 374% (starting portfolio value was 100). Unfortunately, the average is skewed by a few people who made outsized gains (max portfolio value = 27,385.63). Note that the 75%-tile value is only 44.87, which means that more than 3/4 of the people who played this \"winning\" game lost over 55% of their initial capital, and half of the people lost more than 92%. The author presents a mathematical analysis to explain why this happens."
   ]
  },
  {
   "cell_type": "markdown",
   "metadata": {},
   "source": [
    "The author then demostrates that, because this is a non-ergodic game, everyone who plays will lose eventually. This can be seen by increasing the number of coin tosses and reviewing the results."
   ]
  },
  {
   "cell_type": "code",
   "execution_count": 6,
   "metadata": {},
   "outputs": [],
   "source": [
    "results, port_values = run_simulation(portfolio_size = 1, num_coin_tosses = 1000, num_runs = 100)"
   ]
  },
  {
   "cell_type": "code",
   "execution_count": 7,
   "metadata": {
    "scrolled": false
   },
   "outputs": [
    {
     "data": {
      "image/png": "[encoded data removed]",
      "text/plain": [
       "<Figure size 432x288 with 1 Axes>"
      ]
     },
     "metadata": {
      "needs_background": "light"
     },
     "output_type": "display_data"
    }
   ],
   "source": [
    "port_values.hist(bins=50);"
   ]
  },
  {
   "cell_type": "code",
   "execution_count": 8,
   "metadata": {},
   "outputs": [
    {
     "data": {
      "text/html": [
       "<div>\n",
       "<style scoped>\n",
       "    .dataframe tbody tr th:only-of-type {\n",
       "        vertical-align: middle;\n",
       "    }\n",
       "\n",
       "    .dataframe tbody tr th {\n",
       "        vertical-align: top;\n",
       "    }\n",
       "\n",
       "    .dataframe thead th {\n",
       "        text-align: right;\n",
       "    }\n",
       "</style>\n",
       "<table border=\"1\" class=\"dataframe\">\n",
       "  <thead>\n",
       "    <tr style=\"text-align: right;\">\n",
       "      <th></th>\n",
       "      <th>Final Portfolio Value</th>\n",
       "    </tr>\n",
       "  </thead>\n",
       "  <tbody>\n",
       "    <tr>\n",
       "      <th>count</th>\n",
       "      <td>1.000000e+02</td>\n",
       "    </tr>\n",
       "    <tr>\n",
       "      <th>mean</th>\n",
       "      <td>2.669901e-05</td>\n",
       "    </tr>\n",
       "    <tr>\n",
       "      <th>std</th>\n",
       "      <td>2.669901e-04</td>\n",
       "    </tr>\n",
       "    <tr>\n",
       "      <th>min</th>\n",
       "      <td>1.636644e-39</td>\n",
       "    </tr>\n",
       "    <tr>\n",
       "      <th>25%</th>\n",
       "      <td>5.545167e-26</td>\n",
       "    </tr>\n",
       "    <tr>\n",
       "      <th>50%</th>\n",
       "      <td>5.784060e-21</td>\n",
       "    </tr>\n",
       "    <tr>\n",
       "      <th>75%</th>\n",
       "      <td>1.733634e-17</td>\n",
       "    </tr>\n",
       "    <tr>\n",
       "      <th>max</th>\n",
       "      <td>2.669901e-03</td>\n",
       "    </tr>\n",
       "  </tbody>\n",
       "</table>\n",
       "</div>"
      ],
      "text/plain": [
       "       Final Portfolio Value\n",
       "count           1.000000e+02\n",
       "mean            2.669901e-05\n",
       "std             2.669901e-04\n",
       "min             1.636644e-39\n",
       "25%             5.545167e-26\n",
       "50%             5.784060e-21\n",
       "75%             1.733634e-17\n",
       "max             2.669901e-03"
      ]
     },
     "execution_count": 8,
     "metadata": {},
     "output_type": "execute_result"
    }
   ],
   "source": [
    "port_values.describe()"
   ]
  },
  {
   "cell_type": "markdown",
   "metadata": {},
   "source": [
    "As the histogram and descriptive statistics demonstrate, the average value is now essentially zero (note that the value is of the exponent is -5), as is the maximum value (~0.0027), which means everyone lost all of their money, despite this being a \"winning\" game. Explaining the mathematical reasons for these results is what makes the author's presentation so intersting and valuable."
   ]
  },
  {
   "cell_type": "markdown",
   "metadata": {},
   "source": [
    "### Test my hypothesis that limited diversification should result in positive results\n",
    "As the author points out, if you play a game in which you can lose 40% of your money on one coin toss, if you play long enough, you'll most likely experience a run of tails. A run of only 6 tails would mean, no matter how much you had prior to this streak, you'd lose ~95% ((1 - 40%)<sup>6</sup> = ~0.047) of your capital during this streak.\n",
    "\n",
    "This makes sense. I hypothesized, however, that if you played a portfolio of similar games, you'd be exposed to the upside more often in each round, and, by allocating a equal amount to each portfolio, you should be able to increase the value of your portfolio.\n",
    "\n",
    "My initial guess was that a portfolio size of 15 (meaning that 1/15 or 6.67% of your total portfolio value was allocated to each of 15 coin tosses in each round) would result in very positive returns. Here are the results..."
   ]
  },
  {
   "cell_type": "code",
   "execution_count": 9,
   "metadata": {},
   "outputs": [],
   "source": [
    "results, port_values = run_simulation(portfolio_size = 15, num_coin_tosses = 1000, num_runs = 100)"
   ]
  },
  {
   "cell_type": "code",
   "execution_count": 10,
   "metadata": {},
   "outputs": [
    {
     "data": {
      "image/png": "[encoded data removed]",
      "text/plain": [
       "<Figure size 432x288 with 1 Axes>"
      ]
     },
     "metadata": {
      "needs_background": "light"
     },
     "output_type": "display_data"
    }
   ],
   "source": [
    "port_values.hist(bins=50);"
   ]
  },
  {
   "cell_type": "code",
   "execution_count": 11,
   "metadata": {},
   "outputs": [
    {
     "data": {
      "text/html": [
       "<div>\n",
       "<style scoped>\n",
       "    .dataframe tbody tr th:only-of-type {\n",
       "        vertical-align: middle;\n",
       "    }\n",
       "\n",
       "    .dataframe tbody tr th {\n",
       "        vertical-align: top;\n",
       "    }\n",
       "\n",
       "    .dataframe thead th {\n",
       "        text-align: right;\n",
       "    }\n",
       "</style>\n",
       "<table border=\"1\" class=\"dataframe\">\n",
       "  <thead>\n",
       "    <tr style=\"text-align: right;\">\n",
       "      <th></th>\n",
       "      <th>Final Portfolio Value</th>\n",
       "    </tr>\n",
       "  </thead>\n",
       "  <tbody>\n",
       "    <tr>\n",
       "      <th>count</th>\n",
       "      <td>1.000000e+02</td>\n",
       "    </tr>\n",
       "    <tr>\n",
       "      <th>mean</th>\n",
       "      <td>2.430922e+22</td>\n",
       "    </tr>\n",
       "    <tr>\n",
       "      <th>std</th>\n",
       "      <td>1.267424e+23</td>\n",
       "    </tr>\n",
       "    <tr>\n",
       "      <th>min</th>\n",
       "      <td>7.721069e+16</td>\n",
       "    </tr>\n",
       "    <tr>\n",
       "      <th>25%</th>\n",
       "      <td>2.679200e+19</td>\n",
       "    </tr>\n",
       "    <tr>\n",
       "      <th>50%</th>\n",
       "      <td>2.299531e+20</td>\n",
       "    </tr>\n",
       "    <tr>\n",
       "      <th>75%</th>\n",
       "      <td>2.420211e+21</td>\n",
       "    </tr>\n",
       "    <tr>\n",
       "      <th>max</th>\n",
       "      <td>1.051054e+24</td>\n",
       "    </tr>\n",
       "  </tbody>\n",
       "</table>\n",
       "</div>"
      ],
      "text/plain": [
       "       Final Portfolio Value\n",
       "count           1.000000e+02\n",
       "mean            2.430922e+22\n",
       "std             1.267424e+23\n",
       "min             7.721069e+16\n",
       "25%             2.679200e+19\n",
       "50%             2.299531e+20\n",
       "75%             2.420211e+21\n",
       "max             1.051054e+24"
      ]
     },
     "execution_count": 11,
     "metadata": {},
     "output_type": "execute_result"
    }
   ],
   "source": [
    "port_values.describe()"
   ]
  },
  {
   "cell_type": "markdown",
   "metadata": {},
   "source": [
    "As the histogram and descriptive statistics demonstrate, even the minimum value is astronomically large. At first, I thought this was just a lucky outcome, but I re-ran the simulation 20 times, and the results were similar. I was shocked. So, I tried to find the minimum portfolio size that would result in a positive outcome."
   ]
  },
  {
   "cell_type": "markdown",
   "metadata": {},
   "source": [
    "### Present results of limited diversification\n",
    "I ran a loop that would decrement the portfolio size by 1 (starting at 15). I was surprised by how small the portfolio had to be to still end up with positive results in most cases. As you can see, I increased the number of coin tosses per round and the number of runs, to ensure that I got a stable outcome (1000 coin tosses and 100 runs was fairly stable, but there was still some statistically meaningful variance). Here are the results..."
   ]
  },
  {
   "cell_type": "code",
   "execution_count": 12,
   "metadata": {},
   "outputs": [],
   "source": [
    "results, port_values = run_simulation(portfolio_size = 3, num_coin_tosses = 5000, num_runs = 1000)"
   ]
  },
  {
   "cell_type": "code",
   "execution_count": 13,
   "metadata": {},
   "outputs": [
    {
     "data": {
      "image/png": "[encoded data removed]",
      "text/plain": [
       "<Figure size 432x288 with 1 Axes>"
      ]
     },
     "metadata": {
      "needs_background": "light"
     },
     "output_type": "display_data"
    }
   ],
   "source": [
    "port_values.hist(bins=50);"
   ]
  },
  {
   "cell_type": "code",
   "execution_count": 14,
   "metadata": {},
   "outputs": [
    {
     "data": {
      "text/html": [
       "<div>\n",
       "<style scoped>\n",
       "    .dataframe tbody tr th:only-of-type {\n",
       "        vertical-align: middle;\n",
       "    }\n",
       "\n",
       "    .dataframe tbody tr th {\n",
       "        vertical-align: top;\n",
       "    }\n",
       "\n",
       "    .dataframe thead th {\n",
       "        text-align: right;\n",
       "    }\n",
       "</style>\n",
       "<table border=\"1\" class=\"dataframe\">\n",
       "  <thead>\n",
       "    <tr style=\"text-align: right;\">\n",
       "      <th></th>\n",
       "      <th>Final Portfolio Value</th>\n",
       "    </tr>\n",
       "  </thead>\n",
       "  <tbody>\n",
       "    <tr>\n",
       "      <th>count</th>\n",
       "      <td>1.000000e+03</td>\n",
       "    </tr>\n",
       "    <tr>\n",
       "      <th>mean</th>\n",
       "      <td>2.050343e+61</td>\n",
       "    </tr>\n",
       "    <tr>\n",
       "      <th>std</th>\n",
       "      <td>6.465918e+62</td>\n",
       "    </tr>\n",
       "    <tr>\n",
       "      <th>min</th>\n",
       "      <td>5.082807e+10</td>\n",
       "    </tr>\n",
       "    <tr>\n",
       "      <th>25%</th>\n",
       "      <td>3.796720e+30</td>\n",
       "    </tr>\n",
       "    <tr>\n",
       "      <th>50%</th>\n",
       "      <td>1.164907e+36</td>\n",
       "    </tr>\n",
       "    <tr>\n",
       "      <th>75%</th>\n",
       "      <td>4.262372e+41</td>\n",
       "    </tr>\n",
       "    <tr>\n",
       "      <th>max</th>\n",
       "      <td>2.044701e+64</td>\n",
       "    </tr>\n",
       "  </tbody>\n",
       "</table>\n",
       "</div>"
      ],
      "text/plain": [
       "       Final Portfolio Value\n",
       "count           1.000000e+03\n",
       "mean            2.050343e+61\n",
       "std             6.465918e+62\n",
       "min             5.082807e+10\n",
       "25%             3.796720e+30\n",
       "50%             1.164907e+36\n",
       "75%             4.262372e+41\n",
       "max             2.044701e+64"
      ]
     },
     "execution_count": 14,
     "metadata": {},
     "output_type": "execute_result"
    }
   ],
   "source": [
    "port_values.describe()"
   ]
  },
  {
   "cell_type": "markdown",
   "metadata": {},
   "source": [
    "I was surprised that a portfolio size of 3 worked in all cases (the minimum value in each simulation varies, but only by the size of the positive exponent in the value). In fact, in most runs, even a portfolio_size = 2 produces positive results, but not in all re-runs of the simulation. It made me suspect that I had done something wrong, but I cannot find an error in the algorithm. I recreated the simulation in Excel by hand (copying/pasting cell formulae), and it worked the same there, so I think these findings are correct.\n",
    "\n",
    "In the end, I'm not sure what this proves. As the author points out, diversification is important. He makes a comment on Slide 64 that concentrated portfolios (5-10 positions) should be avoided. I think these results challenge that recommendation, even if, in practical terms, such concentration cannot work for large funds due to restrictions on ownership."
   ]
  },
  {
   "cell_type": "code",
   "execution_count": null,
   "metadata": {},
   "outputs": [],
   "source": []
  }
 ],
 "metadata": {
  "kernelspec": {
   "display_name": "Python 3",
   "language": "python",
   "name": "python3"
  },
  "language_info": {
   "codemirror_mode": {
    "name": "ipython",
    "version": 3
   },
   "file_extension": ".py",
   "mimetype": "text/x-python",
   "name": "python",
   "nbconvert_exporter": "python",
   "pygments_lexer": "ipython3",
   "version": "3.7.4"
  }
 },
 "nbformat": 4,
 "nbformat_minor": 1
}
